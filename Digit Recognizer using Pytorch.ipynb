{
  "nbformat": 4,
  "nbformat_minor": 0,
  "metadata": {
    "colab": {
      "name": "OUTSTANDING-3.ipynb",
      "provenance": [],
      "collapsed_sections": []
    },
    "kernelspec": {
      "name": "python3",
      "display_name": "Python 3"
    },
    "language_info": {
      "name": "python"
    },
    "accelerator": "GPU"
  },
  "cells": [
    {
      "cell_type": "code",
      "metadata": {
        "colab": {
          "base_uri": "https://localhost:8080/"
        },
        "id": "x0isR0dpmZrg",
        "outputId": "5836d984-f0b2-488b-d047-91384c224fb9"
      },
      "source": [
        "import numpy as np \n",
        "import pandas as pd \n",
        "import matplotlib.pyplot as plt\n",
        "import os\n",
        "print(os.listdir(\"/content/drive/MyDrive/Digit Recognizer\"))"
      ],
      "execution_count": 1,
      "outputs": [
        {
          "output_type": "stream",
          "text": [
            "['sample_submission.csv', 'test.csv', 'train.csv']\n"
          ],
          "name": "stdout"
        }
      ]
    },
    {
      "cell_type": "markdown",
      "metadata": {
        "id": "co6cP2N60R9W"
      },
      "source": [
        "# **Loading Dataset**"
      ]
    },
    {
      "cell_type": "code",
      "metadata": {
        "id": "UYfDRmxbtgD3"
      },
      "source": [
        "# Import Libraries\n",
        "import torch\n",
        "import torch.nn as nn\n",
        "from torch.autograd import Variable\n",
        "from sklearn.model_selection import train_test_split\n",
        "from torch.utils.data import DataLoader, TensorDataset"
      ],
      "execution_count": 2,
      "outputs": []
    },
    {
      "cell_type": "markdown",
      "metadata": {
        "id": "XdYg-IZA0X-U"
      },
      "source": [
        "# **Preparing The Dataset**"
      ]
    },
    {
      "cell_type": "code",
      "metadata": {
        "colab": {
          "base_uri": "https://localhost:8080/",
          "height": 264
        },
        "id": "oqWh1q_3tkt4",
        "outputId": "e48467c9-7371-4860-cfa3-ca83d21fedc9"
      },
      "source": [
        "# Prepare Dataset\n",
        "# load data\n",
        "train = pd.read_csv(r\"/content/drive/MyDrive/Digit Recognizer/train.csv\",dtype = np.float32)\n",
        "test = pd.read_csv(r\"/content/drive/MyDrive/Digit Recognizer/test.csv\",dtype = np.float32)\n",
        "\n",
        "# split data into features(pixels) and labels(numbers from 0 to 9)\n",
        "targets_numpy = train.label.values\n",
        "features_numpy = train.loc[:,train.columns != \"label\"].values/255 # normalization\n",
        "\n",
        "# train test split. Size of train data is 80% and size of test data is 20%. \n",
        "features_train, features_test, targets_train, targets_test = train_test_split(features_numpy,\n",
        "                                                                             targets_numpy,\n",
        "                                                                             test_size = 0.2,\n",
        "                                                                             random_state = 42) \n",
        "\n",
        "# create feature and targets tensor for train set. As you remember we need variable to accumulate gradients. Therefore first we create tensor, then we will create variable\n",
        "featuresTrain = torch.from_numpy(features_train)\n",
        "targetsTrain = torch.from_numpy(targets_train).type(torch.LongTensor) # data type is long\n",
        "\n",
        "# create feature and targets tensor for test set.\n",
        "featuresTest = torch.from_numpy(features_test)\n",
        "targetsTest = torch.from_numpy(targets_test).type(torch.LongTensor) # data type is long\n",
        "\n",
        "# batch_size, epoch and iteration\n",
        "batch_size = 100\n",
        "n_iters = 10000\n",
        "num_epochs = n_iters / (len(features_train) / batch_size)\n",
        "num_epochs = int(num_epochs)\n",
        "\n",
        "# Pytorch train and test sets\n",
        "train = TensorDataset(featuresTrain,targetsTrain)\n",
        "test = TensorDataset(featuresTest,targetsTest)\n",
        "\n",
        "# data loader\n",
        "train_loader = DataLoader(train, batch_size = batch_size, shuffle = False)\n",
        "test_loader = DataLoader(test, batch_size = batch_size, shuffle = False)\n",
        "\n",
        "# visualize one of the images in data set\n",
        "plt.imshow(features_numpy[10].reshape(28,28))\n",
        "plt.axis(\"off\")\n",
        "plt.title(str(targets_numpy[10]))\n",
        "plt.savefig('graph.png')\n",
        "plt.show()"
      ],
      "execution_count": 12,
      "outputs": [
        {
          "output_type": "display_data",
          "data": {
            "image/png": "[encoded data removed]",
            "text/plain": [
              "<Figure size 432x288 with 1 Axes>"
            ]
          },
          "metadata": {
            "tags": [],
            "needs_background": "light"
          }
        }
      ]
    },
    {
      "cell_type": "markdown",
      "metadata": {
        "id": "xMsN3TLT0fBK"
      },
      "source": [
        "# **Defining Recurrent Neural Network Model**"
      ]
    },
    {
      "cell_type": "code",
      "metadata": {
        "id": "Su2dofMlt8dj"
      },
      "source": [
        "# Create RNN Model\n",
        "class RNNModel(nn.Module):\n",
        "    def __init__(self, input_dim, hidden_dim, layer_dim, output_dim):\n",
        "        super(RNNModel, self).__init__()\n",
        "        \n",
        "        # Number of hidden dimensions\n",
        "        self.hidden_dim = hidden_dim\n",
        "        \n",
        "        # Number of hidden layers\n",
        "        self.layer_dim = layer_dim\n",
        "        \n",
        "        # RNN\n",
        "        self.rnn = nn.RNN(input_dim, hidden_dim, layer_dim, batch_first=True, nonlinearity='relu')\n",
        "        \n",
        "        # Readout layer\n",
        "        self.fc = nn.Linear(hidden_dim, output_dim)\n",
        "    \n",
        "    def forward(self, x):\n",
        "        \n",
        "        # Initialize hidden state with zeros\n",
        "        h0 = Variable(torch.zeros(self.layer_dim, x.size(0), self.hidden_dim))\n",
        "            \n",
        "        # One time step\n",
        "        out, hn = self.rnn(x, h0)\n",
        "        out = self.fc(out[:, -1, :]) \n",
        "        return out\n",
        "\n",
        "# batch_size, epoch and iteration\n",
        "batch_size = 100\n",
        "n_iters = 8000\n",
        "num_epochs = n_iters / (len(features_train) / batch_size)\n",
        "num_epochs = int(num_epochs)\n",
        "\n",
        "# Pytorch train and test sets\n",
        "train = TensorDataset(featuresTrain,targetsTrain)\n",
        "test = TensorDataset(featuresTest,targetsTest)\n",
        "\n",
        "# data loader\n",
        "train_loader = DataLoader(train, batch_size = batch_size, shuffle = False)\n",
        "test_loader = DataLoader(test, batch_size = batch_size, shuffle = False)\n",
        "    \n",
        "# Create RNN\n",
        "input_dim = 28    # input dimension\n",
        "hidden_dim = 100  # hidden layer dimension\n",
        "layer_dim = 1     # number of hidden layers\n",
        "output_dim = 10   # output dimension\n",
        "\n",
        "model = RNNModel(input_dim, hidden_dim, layer_dim, output_dim)\n",
        "\n",
        "# Cross Entropy Loss \n",
        "error = nn.CrossEntropyLoss()\n",
        "\n",
        "# SGD Optimizer\n",
        "learning_rate = 0.05\n",
        "optimizer = torch.optim.SGD(model.parameters(), lr=learning_rate)"
      ],
      "execution_count": 13,
      "outputs": []
    },
    {
      "cell_type": "code",
      "metadata": {
        "colab": {
          "base_uri": "https://localhost:8080/"
        },
        "id": "fnM_ZHUuzWWm",
        "outputId": "6405eb57-e18a-444b-8c2c-edfdf0b43737"
      },
      "source": [
        "a=  torch.randn(12,3)\n",
        "print(a)\n",
        "torch.max(a, 1)"
      ],
      "execution_count": 27,
      "outputs": [
        {
          "output_type": "stream",
          "text": [
            "tensor([[ 2.4165,  0.7829,  0.8853],\n",
            "        [-1.8049,  0.1676,  0.0890],\n",
            "        [-0.5254,  0.7805, -0.2197],\n",
            "        [ 2.4775,  0.8164,  1.4448],\n",
            "        [ 0.4699,  0.2846,  1.1243],\n",
            "        [-0.3442,  0.5169, -1.0861],\n",
            "        [-0.2327,  0.0545,  0.2461],\n",
            "        [-0.1673, -0.5686, -0.6393],\n",
            "        [ 0.7629,  1.9513, -0.6477],\n",
            "        [-1.5569, -0.4966, -1.1447],\n",
            "        [ 0.9450,  0.5484, -0.0715],\n",
            "        [ 0.6697, -0.6312, -0.8992]])\n"
          ],
          "name": "stdout"
        },
        {
          "output_type": "execute_result",
          "data": {
            "text/plain": [
              "torch.return_types.max(values=tensor([ 2.4165,  0.1676,  0.7805,  2.4775,  1.1243,  0.5169,  0.2461, -0.1673,\n",
              "         1.9513, -0.4966,  0.9450,  0.6697]), indices=tensor([0, 1, 1, 0, 2, 1, 2, 0, 1, 1, 0, 0]))"
            ]
          },
          "metadata": {
            "tags": []
          },
          "execution_count": 27
        }
      ]
    },
    {
      "cell_type": "markdown",
      "metadata": {
        "id": "3BR1nPPv0p9G"
      },
      "source": [
        "# **Calculating Losses and Accuracy**"
      ]
    },
    {
      "cell_type": "code",
      "metadata": {
        "colab": {
          "base_uri": "https://localhost:8080/"
        },
        "id": "3xHXSGjIzuu1",
        "outputId": "ac45f565-7685-4f19-bb78-67d92ec29807"
      },
      "source": [
        "seq_dim = 28\n",
        "loss_list= []\n",
        "iteration_list = []\n",
        "accuracy_list = []\n",
        "\n",
        "count = 0\n",
        "\n",
        "for epoch in range(num_epochs):\n",
        "    for i, (images, labels) in enumerate(train_loader):\n",
        "        train = Variable(images.view(-1, seq_dim, input_dim))\n",
        "        labels = Variable(labels)\n",
        "        \n",
        "        optimizer.zero_grad()\n",
        "        outputs = model(train)\n",
        "        \n",
        "        loss = error(outputs, labels)\n",
        "        loss.backward()\n",
        "        \n",
        "        optimizer.step()\n",
        "        \n",
        "        count += 1\n",
        "        \n",
        "        if count % 250 == 0 :\n",
        "            correct = 0\n",
        "            total = 0\n",
        "            for images, labels in test_loader:\n",
        "                images = Variable(images.view(-1, seq_dim, input_dim))\n",
        "                outputs = model(images)\n",
        "                \n",
        "                predicted = torch.max(outputs.data, 1)[1]\n",
        "                total += labels.size(0)\n",
        "                correct += (predicted == labels).sum()\n",
        "            accuracy = 100 * correct / float(total)\n",
        "            \n",
        "            loss_list.append(loss.data)\n",
        "            iteration_list.append(count)\n",
        "            accuracy_list.append(accuracy)\n",
        "            \n",
        "            if count % 500 == 0:\n",
        "                print('iterations: {}, loss = {}, accuracy = {} %'.format(count, loss, accuracy))"
      ],
      "execution_count": 29,
      "outputs": [
        {
          "output_type": "stream",
          "text": [
            "iterations: 500, loss = 0.13492824137210846, accuracy = 94.46428680419922 %\n",
            "iterations: 1000, loss = 0.13234876096248627, accuracy = 94.57142639160156 %\n",
            "iterations: 1500, loss = 0.0735597088932991, accuracy = 94.16666412353516 %\n",
            "iterations: 2000, loss = 0.2095690369606018, accuracy = 95.85713958740234 %\n",
            "iterations: 2500, loss = 0.1303889900445938, accuracy = 94.38095092773438 %\n",
            "iterations: 3000, loss = 0.048413749784231186, accuracy = 95.9047622680664 %\n",
            "iterations: 3500, loss = 0.3354620635509491, accuracy = 95.55952453613281 %\n",
            "iterations: 4000, loss = 0.16179077327251434, accuracy = 91.47618865966797 %\n",
            "iterations: 4500, loss = 0.34604838490486145, accuracy = 94.54762268066406 %\n",
            "iterations: 5000, loss = 0.12153680622577667, accuracy = 94.92857360839844 %\n",
            "iterations: 5500, loss = 0.22813203930854797, accuracy = 94.97618865966797 %\n",
            "iterations: 6000, loss = 0.16760045289993286, accuracy = 95.6547622680664 %\n",
            "iterations: 6500, loss = 0.15025585889816284, accuracy = 95.51190185546875 %\n",
            "iterations: 7000, loss = 0.1777285933494568, accuracy = 96.22618865966797 %\n",
            "iterations: 7500, loss = 0.095421701669693, accuracy = 95.73809814453125 %\n"
          ],
          "name": "stdout"
        }
      ]
    },
    {
      "cell_type": "code",
      "metadata": {
        "colab": {
          "base_uri": "https://localhost:8080/",
          "height": 573
        },
        "id": "KTZD7Co5vRh6",
        "outputId": "d283aff6-3a35-4907-d6ed-88d4e74825cc"
      },
      "source": [
        "# visualization loss \n",
        "plt.plot(iteration_list,loss_list)\n",
        "plt.xlabel(\"Number of iteration\")\n",
        "plt.ylabel(\"Loss\")\n",
        "plt.title(\"RNN: Loss vs Number of iteration\")\n",
        "plt.show()\n",
        "\n",
        "# visualization accuracy \n",
        "plt.plot(iteration_list,accuracy_list,color = \"red\")\n",
        "plt.xlabel(\"Number of iteration\")\n",
        "plt.ylabel(\"Accuracy\")\n",
        "plt.title(\"RNN: Accuracy vs Number of iteration\")\n",
        "plt.savefig('graph.png')\n",
        "plt.show()"
      ],
      "execution_count": 30,
      "outputs": [
        {
          "output_type": "display_data",
          "data": {
            "image/png": "[encoded data removed]",
            "text/plain": [
              "<Figure size 432x288 with 1 Axes>"
            ]
          },
          "metadata": {
            "tags": [],
            "needs_background": "light"
          }
        },
        {
          "output_type": "display_data",
          "data": {
            "image/png": "[encoded data removed]",
            "text/plain": [
              "<Figure size 432x288 with 1 Axes>"
            ]
          },
          "metadata": {
            "tags": [],
            "needs_background": "light"
          }
        }
      ]
    },
    {
      "cell_type": "code",
      "metadata": {
        "colab": {
          "base_uri": "https://localhost:8080/",
          "height": 573
        },
        "id": "hkr9Fizbvx73",
        "outputId": "e50ab74d-1b8b-46ec-d0a8-50dbcb4c1d63"
      },
      "source": [
        "plt.plot(iteration_list, loss_list)\n",
        "plt.xlabel('num of iteration')\n",
        "plt.ylabel('Loss')\n",
        "plt.title('RNN: Loss for iteration')\n",
        "plt.show()\n",
        "\n",
        "plt.plot(iteration_list, accuracy_list, color = 'red')\n",
        "plt.xlabel('num of iteration')\n",
        "plt.ylabel('accuracy')\n",
        "plt.title(\"RNN: accuracy for iteration\")\n",
        "plt.savefig('graph.png')\n",
        "plt.show()"
      ],
      "execution_count": 31,
      "outputs": [
        {
          "output_type": "display_data",
          "data": {
            "image/png": "[encoded data removed]",
            "text/plain": [
              "<Figure size 432x288 with 1 Axes>"
            ]
          },
          "metadata": {
            "tags": [],
            "needs_background": "light"
          }
        },
        {
          "output_type": "display_data",
          "data": {
            "image/png": "[encoded data removed]",
            "text/plain": [
              "<Figure size 432x288 with 1 Axes>"
            ]
          },
          "metadata": {
            "tags": [],
            "needs_background": "light"
          }
        }
      ]
    },
    {
      "cell_type": "code",
      "metadata": {
        "id": "xZSl0Oz_0M0o"
      },
      "source": [
        ""
      ],
      "execution_count": null,
      "outputs": []
    }
  ]
}